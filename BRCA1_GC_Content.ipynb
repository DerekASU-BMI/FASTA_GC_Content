{
 "cells": [
  {
   "cell_type": "markdown",
   "metadata": {},
   "source": [
    "Purpose of this program is to read in a FASTA file containing nucleotides from Breast cancer sample received from NCBI. Then calculate GC content and plot nucleotide frequency and GC content"
   ]
  },
  {
   "cell_type": "markdown",
   "metadata": {},
   "source": [
    "get current directory where DNA file is stored"
   ]
  },
  {
   "cell_type": "code",
   "execution_count": 54,
   "metadata": {},
   "outputs": [],
   "source": [
    "import os\n",
    "#os.chdir()\n",
    "os.getcwd()"
   ]
  },
  {
   "cell_type": "code",
   "execution_count": 49,
   "metadata": {},
   "outputs": [],
   "source": [
    "def readFile(fp):\n",
    "    with open(fp, 'r') as f:\n",
    "        return [l.strip() for l in f.readlines()]"
   ]
  },
  {
   "cell_type": "markdown",
   "metadata": {},
   "source": [
    "convert downloaded FASTA file to a dictionary and then slice to only get the DNA sequence"
   ]
  },
  {
   "cell_type": "code",
   "execution_count": 50,
   "metadata": {},
   "outputs": [],
   "source": [
    "seq = readFile('BRCA1.txt')\n",
    "FASTADict = {}\n",
    "FASTALabel = \"\"\n",
    "\n",
    "for l in seq:\n",
    "    if '>' in l:\n",
    "        FASTALabel = l\n",
    "        FASTADict[FASTALabel] = \"\"\n",
    "    else:\n",
    "        FASTADict[FASTALabel] += l\n",
    "\n",
    "seq = list(FASTADict.values())[0]"
   ]
  },
  {
   "cell_type": "markdown",
   "metadata": {},
   "source": [
    "count of nucleotides and total length of sequence\n",
    "\n",
    "calculate GC content and AT content"
   ]
  },
  {
   "cell_type": "code",
   "execution_count": 51,
   "metadata": {},
   "outputs": [
    {
     "name": "stdout",
     "output_type": "stream",
     "text": [
      "A:2368, T:1759, C:1376, G:1585, Sequence Length:7088\n",
      "GC_content percentage is:  41.77\n",
      "AT_content percentage is:  58.23\n"
     ]
    }
   ],
   "source": [
    "A = seq.count('A')\n",
    "T = seq.count('T')\n",
    "C = seq.count('C')\n",
    "G = seq.count('G')\n",
    "seq_len = len(seq)\n",
    "\n",
    "\n",
    "GC_content = round((seq.count('G') + seq.count('C')) / len(seq)*100,2)\n",
    "AT_content = round((seq.count('A') + seq.count('T')) / len(seq) * 100,2)\n",
    "\n",
    "print('A:{}, T:{}, C:{}, G:{}, Sequence Length:{}'.format(A,T,C,G,seq_len))\n",
    "print('GC_content percentage is: ', GC_content)\n",
    "print('AT_content percentage is: ', AT_content)"
   ]
  },
  {
   "cell_type": "markdown",
   "metadata": {},
   "source": [
    "importing matplotlib for visualizations and plot each nucleotide frequency alongside GC and AT content "
   ]
  },
  {
   "cell_type": "code",
   "execution_count": 52,
   "metadata": {},
   "outputs": [
    {
     "data": {
      "image/png": "[encoded data removed]",
      "text/plain": [
       "<Figure size 432x288 with 1 Axes>"
      ]
     },
     "metadata": {
      "needs_background": "light"
     },
     "output_type": "display_data"
    },
    {
     "data": {
      "image/png": "[encoded data removed]",
      "text/plain": [
       "<Figure size 432x288 with 1 Axes>"
      ]
     },
     "metadata": {
      "needs_background": "light"
     },
     "output_type": "display_data"
    }
   ],
   "source": [
    "import matplotlib.pyplot as plt\n",
    "\n",
    "x_axis = ['A', 'T', 'C', 'G']\n",
    "y_axis = [A, T, C, G]\n",
    "plt.subplot(2,1,1)\n",
    "plt.bar(x_axis,y_axis, label = 'Nucleotide Frequency')\n",
    "\n",
    "plt.legend(loc='best')\n",
    "plt.show()\n",
    "\n",
    "x_axis2 = ['GC_content','AT_content']\n",
    "y_axis2 = [GC_content,AT_content]\n",
    "plt.subplot(2,1,2)\n",
    "plt.bar(x_axis2,y_axis2, label='GC and AT content %')\n",
    "\n",
    "plt.legend(loc='best')\n",
    "plt.show()"
   ]
  }
 ],
 "metadata": {
  "interpreter": {
   "hash": "40d3a090f54c6569ab1632332b64b2c03c39dcf918b08424e98f38b5ae0af88f"
  },
  "kernelspec": {
   "display_name": "Python 3.8.5 64-bit ('base': conda)",
   "name": "python3"
  },
  "language_info": {
   "codemirror_mode": {
    "name": "ipython",
    "version": 3
   },
   "file_extension": ".py",
   "mimetype": "text/x-python",
   "name": "python",
   "nbconvert_exporter": "python",
   "pygments_lexer": "ipython3",
   "version": "3.8.5"
  },
  "orig_nbformat": 4
 },
 "nbformat": 4,
 "nbformat_minor": 2
}
